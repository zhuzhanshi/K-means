{
 "cells": [
  {
   "cell_type": "code",
   "execution_count": 1,
   "metadata": {},
   "outputs": [],
   "source": [
    "import numpy as np\n",
    "import random \n",
    "import matplotlib.pyplot as plt"
   ]
  },
  {
   "cell_type": "code",
   "execution_count": 2,
   "metadata": {},
   "outputs": [],
   "source": [
    "point = [(0, 0), (1, 0), (0, 1), (1, 1), (2, 1), (1, 2), (2, 2), (3, 2), (6, 6), (7, 6), (8, 6), (7, 7), (8, 7),\n",
    "         (9, 7), (7, 8), (8, 8), (9, 8), (8, 9), (9, 9)]\n",
    "#print(point)\n",
    "point = np.array(point)\n",
    "#print(point)"
   ]
  },
  {
   "cell_type": "code",
   "execution_count": 3,
   "metadata": {},
   "outputs": [],
   "source": [
    "def draw_scatter(point = None, color = 'ro'):\n",
    "    x_value = [x[0] for x in point]\n",
    "    y_value = [x[1] for x in point]\n",
    "    #print(x_value)\n",
    "    plt.plot(x_value,y_value, color)\n",
    "    plt.xlim(-1, 10)\n",
    "    plt.ylim(-1, 10)\n",
    "    plt.show()"
   ]
  },
  {
   "cell_type": "code",
   "execution_count": 4,
   "metadata": {},
   "outputs": [
    {
     "data": {
      "image/png": "[encoded data removed]",
      "text/plain": [
       "<Figure size 432x288 with 1 Axes>"
      ]
     },
     "metadata": {},
     "output_type": "display_data"
    }
   ],
   "source": [
    "draw_scatter(point)"
   ]
  },
  {
   "cell_type": "code",
   "execution_count": 5,
   "metadata": {},
   "outputs": [],
   "source": [
    "def shortest_distance_num(point, center):\n",
    "    dist = np.linalg.norm(np.array(point) - np.array(center[0]))\n",
    "    num = 0\n",
    "    i = 0\n",
    "    for cen_ in center:\n",
    "        #print('#')\n",
    "        #print(cen_)\n",
    "        #print(i)\n",
    "        dist_t = np.linalg.norm(cen_ - np.array(point))\n",
    "        if dist_t < dist:\n",
    "            dist = dist_t\n",
    "            num = i\n",
    "        i = i + 1\n",
    "    #print(num)\n",
    "    return num"
   ]
  },
  {
   "cell_type": "code",
   "execution_count": 6,
   "metadata": {},
   "outputs": [],
   "source": [
    "def cluster_K(K = 2, points = [(0,0), (1,1)], center = [(0,0), (1,1)],  clusters = []):\n",
    "    clusters[:] = []\n",
    "    #initial cluster list to store points\n",
    "    for _ in range(K):\n",
    "        sub_cluster = []\n",
    "        clusters.append(sub_cluster)\n",
    "    #print(len(clusters))\n",
    "    cluster_num = 0\n",
    "    for item in points:\n",
    "        cluster_num = shortest_distance_num(item, center)\n",
    "        clusters[cluster_num].append(item)"
   ]
  },
  {
   "cell_type": "code",
   "execution_count": 7,
   "metadata": {},
   "outputs": [],
   "source": [
    "def update_center(K = 2, center = [], clusters = []):\n",
    "    center[:] = [] #clear\n",
    "    for sub_cluster in clusters:\n",
    "        mean = np.mean(sub_cluster, axis = 0)\n",
    "        center.append(mean)\n",
    "        "
   ]
  },
  {
   "cell_type": "code",
   "execution_count": 8,
   "metadata": {},
   "outputs": [],
   "source": [
    "def k_means(K = 2, points = [(0,0), (1,1)], max_iter = 2):\n",
    "    length = len(points)\n",
    "    clusters = []\n",
    "    initial = random.sample(range(0,10),2) #2\n",
    "    clusters_center = []\n",
    "    for i in range(K):\n",
    "        clusters_center.append(point[initial[i]])\n",
    "    #print(clusters_center)\n",
    "    #print('clusters_center : ' + str([list(x) for x in clusters_center]))\n",
    "    cluster_K(K, points, clusters_center, clusters)\n",
    "    #print('clusters : ' + str([[list(t) for t in x] for x in clusters]))\n",
    "    for iter_ in range(max_iter):\n",
    "        update_center(K, clusters_center, clusters)\n",
    "        #print('clusters_center : ' + str([list(x) for x in clusters_center]))\n",
    "        cluster_K(K, points, clusters_center, clusters)\n",
    "        #print('clusters : ' + str([[list(t) for t in x] for x in clusters]))\n",
    "\n",
    "        \n",
    "        \n",
    "        \n",
    "    return clusters, clusters_center\n",
    "        "
   ]
  },
  {
   "cell_type": "code",
   "execution_count": 9,
   "metadata": {},
   "outputs": [],
   "source": [
    "clusters, clusters_center = k_means(K = 2, points = point, max_iter = 2)"
   ]
  },
  {
   "cell_type": "code",
   "execution_count": 10,
   "metadata": {},
   "outputs": [],
   "source": [
    "def draw_scatters(K = 2, clusters = None, clusters_center = None):\n",
    "    for i in range(K):\n",
    "        x_value = [x[0] for x in clusters[i]]\n",
    "        y_value = [x[1] for x in clusters[i]]\n",
    "        x_center = clusters_center[i][0]\n",
    "        y_center = clusters_center[i][1]\n",
    "        #print(x_center)\n",
    "        #print(x_value)\n",
    "        plt.plot(x_value,y_value, 'o')\n",
    "        plt.plot(x_center,y_center, 'o')\n",
    "    #print(value)\n",
    "    plt.show()"
   ]
  },
  {
   "cell_type": "code",
   "execution_count": 11,
   "metadata": {},
   "outputs": [
    {
     "data": {
      "image/png": "[encoded data removed]",
      "text/plain": [
       "<Figure size 432x288 with 1 Axes>"
      ]
     },
     "metadata": {},
     "output_type": "display_data"
    }
   ],
   "source": [
    "draw_scatters(K = 2,clusters = clusters, clusters_center = clusters_center)"
   ]
  },
  {
   "cell_type": "code",
   "execution_count": null,
   "metadata": {},
   "outputs": [],
   "source": []
  },
  {
   "cell_type": "code",
   "execution_count": null,
   "metadata": {},
   "outputs": [],
   "source": []
  }
 ],
 "metadata": {
  "kernelspec": {
   "display_name": "Python 3",
   "language": "python",
   "name": "python3"
  },
  "language_info": {
   "codemirror_mode": {
    "name": "ipython",
    "version": 3
   },
   "file_extension": ".py",
   "mimetype": "text/x-python",
   "name": "python",
   "nbconvert_exporter": "python",
   "pygments_lexer": "ipython3",
   "version": "3.6.4"
  }
 },
 "nbformat": 4,
 "nbformat_minor": 2
}
